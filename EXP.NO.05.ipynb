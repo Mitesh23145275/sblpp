{
 "cells": [
  {
   "cell_type": "markdown",
   "id": "6cbbdf52-b352-4a55-9e56-901c2f0b6621",
   "metadata": {},
   "source": [
    "### Mitesh Pawar-70 \n",
    "### Exp.No.05"
   ]
  },
  {
   "cell_type": "markdown",
   "id": "1dd4b39b-1713-42b8-b88f-4a7797b39cbf",
   "metadata": {},
   "source": [
    "### Stack"
   ]
  },
  {
   "cell_type": "code",
   "execution_count": 1,
   "id": "7ac59e10-8c82-49e2-a586-07efc931717c",
   "metadata": {},
   "outputs": [
    {
     "name": "stdout",
     "output_type": "stream",
     "text": [
      "Initial Stack\n",
      "['a', 'b', 'c']\n"
     ]
    }
   ],
   "source": [
    "stack = list ()\n",
    "\n",
    "# Append Operation\n",
    "stack.append ('a')\n",
    "stack.append ('b')\n",
    "stack.append ('c')\n",
    "print ('Initial Stack')\n",
    "print (stack)"
   ]
  },
  {
   "cell_type": "code",
   "execution_count": 2,
   "id": "e6d26226-f6df-4457-b5a1-de26326f59d0",
   "metadata": {},
   "outputs": [
    {
     "name": "stdout",
     "output_type": "stream",
     "text": [
      "c\n",
      "b\n",
      "a\n",
      "[]\n"
     ]
    }
   ],
   "source": [
    "# Pop Operation\n",
    "print (stack.pop ())\n",
    "print (stack.pop ())\n",
    "print (stack.pop ())\n",
    "print (stack)"
   ]
  },
  {
   "cell_type": "code",
   "execution_count": 3,
   "id": "9220c18d-525b-4750-be54-4939f8e34586",
   "metadata": {},
   "outputs": [
    {
     "name": "stdout",
     "output_type": "stream",
     "text": [
      "3\n",
      "3\n",
      "3\n"
     ]
    }
   ],
   "source": [
    "class StackDepth:\n",
    "    def maximumDepth(self, stringInput: str) -> int:\n",
    "        current_depth = 0\n",
    "        max_depth = 0\n",
    "        for char in stringInput:\n",
    "            if char == '(':  # Opening parenthesis increases depth\n",
    "                current_depth += 1\n",
    "                max_depth = max(max_depth, current_depth)  # Update max depth if needed\n",
    "            elif char == ')':  # Closing parenthesis decreases depth\n",
    "                current_depth -= 1\n",
    "       \n",
    "        return max_depth\n",
    "stack_depth = StackDepth()\n",
    "\n",
    "# Test with example strings and print the results\n",
    "print(stack_depth.maximumDepth(\"(1+(2*3)+((8)/4))+1\"))  # Expected Output: 3\n",
    "print(stack_depth.maximumDepth(\"(1)+((2))+(((3)))\"))  # Expected Output: 3\n",
    "print(stack_depth.maximumDepth(\"()(())((()()))\"))  # Expected Output: 3"
   ]
  },
  {
   "cell_type": "code",
   "execution_count": null,
   "id": "e984295b-8203-47c6-b3fb-d8503bd024ee",
   "metadata": {},
   "outputs": [],
   "source": []
  }
 ],
 "metadata": {
  "kernelspec": {
   "display_name": "Python 3 (ipykernel)",
   "language": "python",
   "name": "python3"
  },
  "language_info": {
   "codemirror_mode": {
    "name": "ipython",
    "version": 3
   },
   "file_extension": ".py",
   "mimetype": "text/x-python",
   "name": "python",
   "nbconvert_exporter": "python",
   "pygments_lexer": "ipython3",
   "version": "3.11.9"
  }
 },
 "nbformat": 4,
 "nbformat_minor": 5
}
